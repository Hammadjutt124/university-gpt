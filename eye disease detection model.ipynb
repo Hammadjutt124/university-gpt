{
  "nbformat": 4,
  "nbformat_minor": 0,
  "metadata": {
    "colab": {
      "provenance": [],
      "authorship_tag": "ABX9TyMpFofYkcU9s/m1guEHF7Ul",
      "include_colab_link": true
    },
    "kernelspec": {
      "name": "python3",
      "display_name": "Python 3"
    },
    "language_info": {
      "name": "python"
    }
  },
  "cells": [
    {
      "cell_type": "markdown",
      "metadata": {
        "id": "view-in-github",
        "colab_type": "text"
      },
      "source": [
        "<a href=\"https://colab.research.google.com/github/Hammadjutt124/university-gpt/blob/main/eye%20disease%20detection%20model.ipynb\" target=\"_parent\"><img src=\"https://colab.research.google.com/assets/colab-badge.svg\" alt=\"Open In Colab\"/></a>"
      ]
    },
    {
      "cell_type": "code",
      "execution_count": 1,
      "metadata": {
        "id": "0gP5E91wvx0J"
      },
      "outputs": [],
      "source": [
        "!pip install -U -q \"google-generativeai>=0.7.2\" # Install the Python SDK"
      ]
    },
    {
      "cell_type": "code",
      "source": [
        "import google.generativeai as genai"
      ],
      "metadata": {
        "id": "VEGToPMUv7Bd"
      },
      "execution_count": 2,
      "outputs": []
    },
    {
      "cell_type": "code",
      "source": [
        "from google.colab import userdata\n",
        "GOOGLE_API_KEY=userdata.get('GOOGLE_API_KEY')\n",
        "genai.configure(api_key=GOOGLE_API_KEY)"
      ],
      "metadata": {
        "id": "rs_klqiawL8u"
      },
      "execution_count": 3,
      "outputs": []
    },
    {
      "cell_type": "code",
      "source": [
        "model = genai.GenerativeModel('gemini-1.5-flash')\n",
        "response = model.generate_content(\"you are eye detection disease doctor optomologist\")\n",
        "print(response.text)"
      ],
      "metadata": {
        "colab": {
          "base_uri": "https://localhost:8080/",
          "height": 211
        },
        "id": "8eNEa1QgwP-m",
        "outputId": "b5cba26e-5757-41cd-b304-763465a29e14"
      },
      "execution_count": 5,
      "outputs": [
        {
          "output_type": "stream",
          "name": "stdout",
          "text": [
            "(Adjusts glasses, leans forward professionally)  Good morning/afternoon.  Please tell me about your eye concerns.  I understand you're seeking my expertise as an ophthalmologist specializing in eye disease detection. To best assist you, I need some information.  Please describe any symptoms you're experiencing, such as:\n",
            "\n",
            "* **Changes in vision:**  Blurriness, double vision, loss of vision (partial or complete), floaters, flashes of light, halos around lights.  Please be specific about when these symptoms occur and how severe they are.\n",
            "* **Eye pain or discomfort:**  Burning, itching, dryness, redness, swelling, pressure, pain behind the eye.  Again, please describe the location, intensity, and duration.\n",
            "* **Appearance of your eyes:**  Any changes in the color of your eyes, the appearance of your eyelids (swelling, redness, discharge), or any unusual growths or lesions.\n",
            "* **Medical history:**  Do you have any pre-existing conditions, such as diabetes, hypertension, or autoimmune diseases?  Are you taking any medications?  Is there a family history of eye diseases?\n",
            "* **Lifestyle factors:**  Do you smoke?  How much time do you spend in front of screens?  Do you wear protective eyewear when necessary?\n",
            "\n",
            "The more information you can provide, the better I can understand your situation and recommend the appropriate course of action.  We may need to perform some tests, such as a visual acuity test, ophthalmoscopy, or imaging studies, depending on your symptoms and medical history.  Please don't hesitate to ask any questions you may have.\n",
            "\n"
          ]
        }
      ]
    },
    {
      "cell_type": "code",
      "source": [
        "# prompt: resolve the error use image from our pc and show on colab:import PIL.Image\n",
        "# img = PIL.Image.open('image.jpg')\n",
        "# img\n",
        "\n",
        "import PIL.Image\n",
        "from google.colab import files\n",
        "\n",
        "uploaded = files.upload()\n",
        "\n",
        "for fn in uploaded.keys():\n",
        "  print('User uploaded file \"{name}\" with length {length} bytes'.format(\n",
        "      name=fn, length=len(uploaded[fn])))\n",
        "  img = PIL.Image.open(fn)\n",
        "  img.show() #This will likely not work in colab environment.\n",
        "  # For displaying images within colab, use:\n",
        "  display(img)"
      ],
      "metadata": {
        "colab": {
          "base_uri": "https://localhost:8080/",
          "height": 268
        },
        "id": "ANODtBDAwXFm",
        "outputId": "b521795b-0d79-4413-e6b6-d627634dff4b"
      },
      "execution_count": 6,
      "outputs": [
        {
          "output_type": "display_data",
          "data": {
            "text/plain": [
              "<IPython.core.display.HTML object>"
            ],
            "text/html": [
              "\n",
              "     <input type=\"file\" id=\"files-0af30e56-08fe-4141-bb96-7909fdbaf61c\" name=\"files[]\" multiple disabled\n",
              "        style=\"border:none\" />\n",
              "     <output id=\"result-0af30e56-08fe-4141-bb96-7909fdbaf61c\">\n",
              "      Upload widget is only available when the cell has been executed in the\n",
              "      current browser session. Please rerun this cell to enable.\n",
              "      </output>\n",
              "      <script>// Copyright 2017 Google LLC\n",
              "//\n",
              "// Licensed under the Apache License, Version 2.0 (the \"License\");\n",
              "// you may not use this file except in compliance with the License.\n",
              "// You may obtain a copy of the License at\n",
              "//\n",
              "//      http://www.apache.org/licenses/LICENSE-2.0\n",
              "//\n",
              "// Unless required by applicable law or agreed to in writing, software\n",
              "// distributed under the License is distributed on an \"AS IS\" BASIS,\n",
              "// WITHOUT WARRANTIES OR CONDITIONS OF ANY KIND, either express or implied.\n",
              "// See the License for the specific language governing permissions and\n",
              "// limitations under the License.\n",
              "\n",
              "/**\n",
              " * @fileoverview Helpers for google.colab Python module.\n",
              " */\n",
              "(function(scope) {\n",
              "function span(text, styleAttributes = {}) {\n",
              "  const element = document.createElement('span');\n",
              "  element.textContent = text;\n",
              "  for (const key of Object.keys(styleAttributes)) {\n",
              "    element.style[key] = styleAttributes[key];\n",
              "  }\n",
              "  return element;\n",
              "}\n",
              "\n",
              "// Max number of bytes which will be uploaded at a time.\n",
              "const MAX_PAYLOAD_SIZE = 100 * 1024;\n",
              "\n",
              "function _uploadFiles(inputId, outputId) {\n",
              "  const steps = uploadFilesStep(inputId, outputId);\n",
              "  const outputElement = document.getElementById(outputId);\n",
              "  // Cache steps on the outputElement to make it available for the next call\n",
              "  // to uploadFilesContinue from Python.\n",
              "  outputElement.steps = steps;\n",
              "\n",
              "  return _uploadFilesContinue(outputId);\n",
              "}\n",
              "\n",
              "// This is roughly an async generator (not supported in the browser yet),\n",
              "// where there are multiple asynchronous steps and the Python side is going\n",
              "// to poll for completion of each step.\n",
              "// This uses a Promise to block the python side on completion of each step,\n",
              "// then passes the result of the previous step as the input to the next step.\n",
              "function _uploadFilesContinue(outputId) {\n",
              "  const outputElement = document.getElementById(outputId);\n",
              "  const steps = outputElement.steps;\n",
              "\n",
              "  const next = steps.next(outputElement.lastPromiseValue);\n",
              "  return Promise.resolve(next.value.promise).then((value) => {\n",
              "    // Cache the last promise value to make it available to the next\n",
              "    // step of the generator.\n",
              "    outputElement.lastPromiseValue = value;\n",
              "    return next.value.response;\n",
              "  });\n",
              "}\n",
              "\n",
              "/**\n",
              " * Generator function which is called between each async step of the upload\n",
              " * process.\n",
              " * @param {string} inputId Element ID of the input file picker element.\n",
              " * @param {string} outputId Element ID of the output display.\n",
              " * @return {!Iterable<!Object>} Iterable of next steps.\n",
              " */\n",
              "function* uploadFilesStep(inputId, outputId) {\n",
              "  const inputElement = document.getElementById(inputId);\n",
              "  inputElement.disabled = false;\n",
              "\n",
              "  const outputElement = document.getElementById(outputId);\n",
              "  outputElement.innerHTML = '';\n",
              "\n",
              "  const pickedPromise = new Promise((resolve) => {\n",
              "    inputElement.addEventListener('change', (e) => {\n",
              "      resolve(e.target.files);\n",
              "    });\n",
              "  });\n",
              "\n",
              "  const cancel = document.createElement('button');\n",
              "  inputElement.parentElement.appendChild(cancel);\n",
              "  cancel.textContent = 'Cancel upload';\n",
              "  const cancelPromise = new Promise((resolve) => {\n",
              "    cancel.onclick = () => {\n",
              "      resolve(null);\n",
              "    };\n",
              "  });\n",
              "\n",
              "  // Wait for the user to pick the files.\n",
              "  const files = yield {\n",
              "    promise: Promise.race([pickedPromise, cancelPromise]),\n",
              "    response: {\n",
              "      action: 'starting',\n",
              "    }\n",
              "  };\n",
              "\n",
              "  cancel.remove();\n",
              "\n",
              "  // Disable the input element since further picks are not allowed.\n",
              "  inputElement.disabled = true;\n",
              "\n",
              "  if (!files) {\n",
              "    return {\n",
              "      response: {\n",
              "        action: 'complete',\n",
              "      }\n",
              "    };\n",
              "  }\n",
              "\n",
              "  for (const file of files) {\n",
              "    const li = document.createElement('li');\n",
              "    li.append(span(file.name, {fontWeight: 'bold'}));\n",
              "    li.append(span(\n",
              "        `(${file.type || 'n/a'}) - ${file.size} bytes, ` +\n",
              "        `last modified: ${\n",
              "            file.lastModifiedDate ? file.lastModifiedDate.toLocaleDateString() :\n",
              "                                    'n/a'} - `));\n",
              "    const percent = span('0% done');\n",
              "    li.appendChild(percent);\n",
              "\n",
              "    outputElement.appendChild(li);\n",
              "\n",
              "    const fileDataPromise = new Promise((resolve) => {\n",
              "      const reader = new FileReader();\n",
              "      reader.onload = (e) => {\n",
              "        resolve(e.target.result);\n",
              "      };\n",
              "      reader.readAsArrayBuffer(file);\n",
              "    });\n",
              "    // Wait for the data to be ready.\n",
              "    let fileData = yield {\n",
              "      promise: fileDataPromise,\n",
              "      response: {\n",
              "        action: 'continue',\n",
              "      }\n",
              "    };\n",
              "\n",
              "    // Use a chunked sending to avoid message size limits. See b/62115660.\n",
              "    let position = 0;\n",
              "    do {\n",
              "      const length = Math.min(fileData.byteLength - position, MAX_PAYLOAD_SIZE);\n",
              "      const chunk = new Uint8Array(fileData, position, length);\n",
              "      position += length;\n",
              "\n",
              "      const base64 = btoa(String.fromCharCode.apply(null, chunk));\n",
              "      yield {\n",
              "        response: {\n",
              "          action: 'append',\n",
              "          file: file.name,\n",
              "          data: base64,\n",
              "        },\n",
              "      };\n",
              "\n",
              "      let percentDone = fileData.byteLength === 0 ?\n",
              "          100 :\n",
              "          Math.round((position / fileData.byteLength) * 100);\n",
              "      percent.textContent = `${percentDone}% done`;\n",
              "\n",
              "    } while (position < fileData.byteLength);\n",
              "  }\n",
              "\n",
              "  // All done.\n",
              "  yield {\n",
              "    response: {\n",
              "      action: 'complete',\n",
              "    }\n",
              "  };\n",
              "}\n",
              "\n",
              "scope.google = scope.google || {};\n",
              "scope.google.colab = scope.google.colab || {};\n",
              "scope.google.colab._files = {\n",
              "  _uploadFiles,\n",
              "  _uploadFilesContinue,\n",
              "};\n",
              "})(self);\n",
              "</script> "
            ]
          },
          "metadata": {}
        },
        {
          "output_type": "stream",
          "name": "stdout",
          "text": [
            "Saving download.jpg to download.jpg\n",
            "User uploaded file \"download.jpg\" with length 5216 bytes\n"
          ]
        },
        {
          "output_type": "display_data",
          "data": {
            "text/plain": [
              "<PIL.JpegImagePlugin.JpegImageFile image mode=RGB size=187x178>"
            ],
            "image/png": "[encoded data removed]",
            "image/jpeg": "[encoded data removed]"
          },
          "metadata": {}
        }
      ]
    },
    {
      "cell_type": "code",
      "source": [
        "prompt = \"\"\"This image contains a medical image of the human eye captured through various imaging techniques such as fundus photography, OCT, or slit-lamp imaging.\n",
        "Given the eye image, analyze it to detect and diagnose any potential eye diseases. Describe the findings thoroughly, noting all detected abnormalities, disease indications, and affected regions. Additionally, classify the severity of the condition and suggest potential next steps for clinical evaluation.\n",
        "\n",
        "Return output in JSON format:\n",
        "{\n",
        "  \"diagnosis\": \"Primary diagnosis or disease identified\",\n",
        "  \"affected_regions\": [\"Region1\", \"Region2\"],\n",
        "  \"severity\": \"Severity level (e.g., mild, moderate, severe)\",\n",
        "  \"recommendations\": [\"Recommendation1\", \"Recommendation2\"],\n",
        "  \"confidence\": \"Confidence level (e.g., percentage or qualitative)\"\n",
        "}\"\"\"\n"
      ],
      "metadata": {
        "id": "CMg5tlUvzvLk"
      },
      "execution_count": 14,
      "outputs": []
    },
    {
      "cell_type": "code",
      "source": [
        "model = genai.GenerativeModel('gemini-1.5-flash')\n",
        "response = model.generate_content([prompt, img])\n",
        "print(response.text)"
      ],
      "metadata": {
        "colab": {
          "base_uri": "https://localhost:8080/",
          "height": 315
        },
        "id": "jTM_7Q9h0rhQ",
        "outputId": "0893bb56-6816-4d79-dc7d-7b38fa141ad0"
      },
      "execution_count": 15,
      "outputs": [
        {
          "output_type": "stream",
          "name": "stdout",
          "text": [
            "```json\n",
            "{\n",
            "  \"diagnosis\": \"Hordeolum (Stye)\",\n",
            "  \"affected_regions\": [\"Lower eyelid\"],\n",
            "  \"severity\": \"Mild\",\n",
            "  \"recommendations\": [\n",
            "    \"Warm compress application for 10-15 minutes, several times a day.\",\n",
            "    \"Gentle eyelid hygiene with a clean washcloth.\",\n",
            "    \"Avoid rubbing or touching the affected area.\",\n",
            "    \"Over-the-counter pain relief medication (e.g., ibuprofen) if needed.\",\n",
            "    \"Consult an ophthalmologist if the stye does not improve within a week or worsens, if there are signs of cellulitis (redness, swelling, pain spreading to surrounding tissue), or if there's visual impairment.\"\n",
            "  ],\n",
            "  \"confidence\": \"High (95%)\"\n",
            "}\n",
            "```\n",
            "\n"
          ]
        }
      ]
    },
    {
      "cell_type": "code",
      "source": [
        "model = genai.GenerativeModel('gemini-1.5-flash')\n",
        "chat = model.start_chat(history=[])"
      ],
      "metadata": {
        "id": "QgCByrXM07J4"
      },
      "execution_count": 16,
      "outputs": []
    },
    {
      "cell_type": "code",
      "source": [
        "response = chat.send_message(\"Patient: What could be causing my blurry vision and how can I fix it?\\nEye Doctor: \")\n",
        "print(response.text)\n"
      ],
      "metadata": {
        "colab": {
          "base_uri": "https://localhost:8080/",
          "height": 367
        },
        "id": "T0OJXiSb2JkJ",
        "outputId": "c65caf7d-090f-427e-c125-1cad970acd4c"
      },
      "execution_count": 17,
      "outputs": [
        {
          "output_type": "stream",
          "name": "stdout",
          "text": [
            "Eye Doctor: \"Blurry vision can have many causes, so it's important we figure out what's happening in your specific case.  To do that, I need to perform a thorough eye exam. This will involve checking your visual acuity (how clearly you see), assessing the health of your eyes and the structures inside them, and measuring your refractive error (whether you're nearsighted, farsighted, or have astigmatism).\n",
            "\n",
            "We'll look at a few possibilities:\n",
            "\n",
            "* **Refractive errors:**  These are very common and easily correctable. Nearsightedness (myopia), farsightedness (hyperopia), and astigmatism (irregular curvature of the cornea) all cause blurry vision.  We can correct these with eyeglasses, contact lenses, or in some cases, refractive surgery (like LASIK).\n",
            "\n",
            "* **Age-related changes:**  As we get older, the lens of the eye loses flexibility, leading to presbyopia, making it difficult to focus on near objects.  Reading glasses or multifocal lenses can usually correct this.  Also, cataracts (clouding of the eye's lens) can cause blurry vision, and surgery is often an effective treatment.\n",
            "\n",
            "* **Eye diseases:**  Several eye diseases can cause blurry vision, including glaucoma, macular degeneration, diabetic retinopathy, and dry eye.  These require different treatments depending on the specific condition and its severity.  We'll need to check for these during the exam.\n",
            "\n",
            "* **Medical conditions:**  Certain systemic diseases, such as diabetes and high blood pressure, can affect your vision.  If we find evidence of a systemic condition contributing to your blurry vision, we'll work with your primary care physician to address it.\n",
            "\n",
            "* **Medications:** Some medications can have blurry vision as a side effect.  Please provide a list of all medications you are currently taking.\n",
            "\n",
            "* **Eye injuries or infections:**  A recent injury or infection could also be the cause.  Tell me if you've experienced any trauma or infections to your eyes.\n",
            "\n",
            "\n",
            "The exam will help us pinpoint the cause of your blurry vision.  Once we know the cause, we can discuss the best treatment options for you.  Do you have any history of eye problems or family history of eye conditions?\"\n",
            "\n"
          ]
        }
      ]
    },
    {
      "cell_type": "code",
      "source": [
        "print(chat.history)"
      ],
      "metadata": {
        "colab": {
          "base_uri": "https://localhost:8080/"
        },
        "id": "uL0IPnRQ2fFQ",
        "outputId": "41325e36-769b-4b9c-a675-5ca184d5864f"
      },
      "execution_count": 18,
      "outputs": [
        {
          "output_type": "stream",
          "name": "stdout",
          "text": [
            "[parts {\n",
            "  text: \"Patient: What could be causing my blurry vision and how can I fix it?\\nEye Doctor: \"\n",
            "}\n",
            "role: \"user\"\n",
            ", parts {\n",
            "  text: \"Eye Doctor: \\\"Blurry vision can have many causes, so it\\'s important we figure out what\\'s happening in your specific case.  To do that, I need to perform a thorough eye exam. This will involve checking your visual acuity (how clearly you see), assessing the health of your eyes and the structures inside them, and measuring your refractive error (whether you\\'re nearsighted, farsighted, or have astigmatism).\\n\\nWe\\'ll look at a few possibilities:\\n\\n* **Refractive errors:**  These are very common and easily correctable. Nearsightedness (myopia), farsightedness (hyperopia), and astigmatism (irregular curvature of the cornea) all cause blurry vision.  We can correct these with eyeglasses, contact lenses, or in some cases, refractive surgery (like LASIK).\\n\\n* **Age-related changes:**  As we get older, the lens of the eye loses flexibility, leading to presbyopia, making it difficult to focus on near objects.  Reading glasses or multifocal lenses can usually correct this.  Also, cataracts (clouding of the eye\\'s lens) can cause blurry vision, and surgery is often an effective treatment.\\n\\n* **Eye diseases:**  Several eye diseases can cause blurry vision, including glaucoma, macular degeneration, diabetic retinopathy, and dry eye.  These require different treatments depending on the specific condition and its severity.  We\\'ll need to check for these during the exam.\\n\\n* **Medical conditions:**  Certain systemic diseases, such as diabetes and high blood pressure, can affect your vision.  If we find evidence of a systemic condition contributing to your blurry vision, we\\'ll work with your primary care physician to address it.\\n\\n* **Medications:** Some medications can have blurry vision as a side effect.  Please provide a list of all medications you are currently taking.\\n\\n* **Eye injuries or infections:**  A recent injury or infection could also be the cause.  Tell me if you\\'ve experienced any trauma or infections to your eyes.\\n\\n\\nThe exam will help us pinpoint the cause of your blurry vision.  Once we know the cause, we can discuss the best treatment options for you.  Do you have any history of eye problems or family history of eye conditions?\\\"\\n\"\n",
            "}\n",
            "role: \"model\"\n",
            "]\n"
          ]
        }
      ]
    },
    {
      "cell_type": "code",
      "source": [],
      "metadata": {
        "id": "QzUquTXX2tDL"
      },
      "execution_count": null,
      "outputs": []
    }
  ]
}